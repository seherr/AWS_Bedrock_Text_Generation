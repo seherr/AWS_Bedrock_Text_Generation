{
 "cells": [
  {
   "cell_type": "markdown",
   "id": "8e7ca445",
   "metadata": {},
   "source": [
    "# Text Generation for Email Creation"
   ]
  },
  {
   "cell_type": "code",
   "execution_count": 48,
   "id": "050e4bed",
   "metadata": {},
   "outputs": [],
   "source": [
    "import json\n",
    "import os\n",
    "import sys\n",
    "\n",
    "import boto3\n",
    "import botocore\n",
    "\n",
    "bedrock_runtime = boto3.client(\n",
    "    service_name='bedrock-runtime', \n",
    "    aws_access_key_id=os.getenv('aws_access_key_id'),\n",
    "    aws_secret_access_key=os.getenv('aws_secret_access_key'),\n",
    "    region_name='us-west-2'\n",
    ")"
   ]
  },
  {
   "cell_type": "code",
   "execution_count": 49,
   "id": "e68d25b9",
   "metadata": {},
   "outputs": [],
   "source": [
    "# create the prompt\n",
    "scenario_description = \"\"\"\n",
    "Task: Compose an email from Alice, Head of Client Relations, to the client \"Mark Taylor\" \n",
    "who expressed dissatisfaction with the technical support provided.\n",
    "\"\"\""
   ]
  },
  {
   "cell_type": "code",
   "execution_count": 50,
   "id": "b40baac9",
   "metadata": {},
   "outputs": [],
   "source": [
    "request_body = json.dumps({\n",
    "    \"inputText\": scenario_description, \n",
    "    \"textGenerationConfig\":{\n",
    "        \"maxTokenCount\":4096,\n",
    "        \"stopSequences\":[],\n",
    "        \"temperature\":0,\n",
    "        \"topP\":0.9\n",
    "        }\n",
    "    }) "
   ]
  },
  {
   "cell_type": "code",
   "execution_count": 51,
   "id": "5461de2c",
   "metadata": {},
   "outputs": [],
   "source": [
    "modelId = 'amazon.titan-tg1-large'\n",
    "accept = 'application/json'\n",
    "contentType = 'application/json'\n",
    "generatedText = \"\\n\"\n",
    "\n",
    "model_response = bedrock_runtime.invoke_model(body=request_body, modelId=modelId, accept=accept, contentType=contentType)\n",
    "response_contents = json.loads(model_response.get('body').read())\n",
    "\n",
    "generatedText = response_contents.get('results')[0].get('outputText')"
   ]
  },
  {
   "cell_type": "code",
   "execution_count": 52,
   "id": "c6a65436",
   "metadata": {},
   "outputs": [
    {
     "name": "stdout",
     "output_type": "stream",
     "text": [
      "\n",
      "Dear Mark,\n",
      "\n",
      "I hope this email finds you well. I am writing to express my sincere apologies for the inconvenience\n",
      "caused to you due to the technical issue with our product. We understand the frustration and\n",
      "disappointment this has caused, and we take your feedback very seriously.\n",
      "\n",
      "I want to assure you that we are committed to resolving the problem as quickly as possible. Our\n",
      "technical team is working tirelessly to identify the root cause and implement a solution. We\n",
      "understand the importance of providing excellent customer support, and we deeply regret falling\n",
      "short of your expectations.\n",
      "\n",
      "In the meantime, we would like to offer you a temporary solution to minimize the impact on your\n",
      "business. We understand that your time is valuable, and we want to ensure that you can continue to\n",
      "operate efficiently. Our team will be available to assist you with any questions or concerns you may\n",
      "have and to work with you to find the best possible solution.\n",
      "\n",
      "Once again, please accept my sincere apologies for the inconvenience caused. We value your business\n",
      "and are committed to making things right. If you have any further questions or concerns, please do\n",
      "not hesitate to contact me directly.\n",
      "\n",
      "Thank you for your understanding and patience.\n",
      "\n",
      "Best regards,\n",
      "Alice.\n"
     ]
    }
   ],
   "source": [
    "email_content = generatedText[generatedText.index('\\n')+1:]\n",
    "print(email_content)"
   ]
  },
  {
   "cell_type": "markdown",
   "id": "47c36ceb",
   "metadata": {},
   "source": [
    "# Streaming Email Creation"
   ]
  },
  {
   "cell_type": "code",
   "execution_count": 53,
   "id": "9d7b36ec",
   "metadata": {},
   "outputs": [
    {
     "name": "stdout",
     "output_type": "stream",
     "text": [
      "\t\t\u001b[31m**Segment 1**\u001b[0m\n",
      "Subject: Apology for the Inconvenience\n",
      "\n",
      "Dear Mark,\n",
      "\n",
      "I hope this email finds you well. I am writing to express my sincere apologies for the inconvenience caused to you due to the technical issue with ou\n",
      "\n",
      "\t\t\u001b[31m**Segment 2**\u001b[0m\n",
      "r product. We understand the frustration and disappointment this has caused, and we take your feedback very seriously.\n",
      "\n",
      "I want to assure you that we are committed to resolving the problem as quickly as possible. Our technical team is working tirelessly to identify the root cause and implement a solution. We understand the importance of providing excellent customer su\n",
      "\n",
      "\t\t\u001b[31m**Segment 3**\u001b[0m\n",
      "pport, and we deeply regret falling short of your expectations.\n",
      "\n",
      "In the meantime, we would like to offer you a temporary solution to minimize the impact on your business. We understand that your time is valuable, and we want to ensure that you can continue to operate efficiently. Our team will be available to assist you with any questions or concer\n",
      "\n",
      "\t\t\u001b[31m**Segment 4**\u001b[0m\n",
      "ns you may have and to work with you to find the best possible solution.\n",
      "\n",
      "Once again, please accept my sincere apologies for the inconvenience caused. We value your business and are committed to making things right. If you have any further questions or concerns, please do not hesitate to contact me directly.\n",
      "\n",
      "Thank you for your understanding and patience.\n",
      "\n",
      "Best regards,\n",
      "Alice.\n",
      "\n"
     ]
    }
   ],
   "source": [
    "output_data = []\n",
    "streamed_response = bedrock_runtime.invoke_model_with_response_stream(body=request_body, modelId=modelId, accept=accept, contentType=contentType)\n",
    "response_stream = streamed_response.get('body')\n",
    "\n",
    "chunk_count = 1\n",
    "if response_stream:\n",
    "    for event in response_stream:\n",
    "        data_chunk = event.get('chunk')\n",
    "        if data_chunk:\n",
    "            chunk_data = json.loads(data_chunk.get('bytes').decode())\n",
    "            text_chunk = chunk_data['outputText']\n",
    "            output_data.append(text_chunk)\n",
    "            print(f'\\t\\t\\x1b[31m**Segment {chunk_count}**\\x1b[0m\\n{text_chunk}\\n')\n",
    "            chunk_count += 1"
   ]
  },
  {
   "cell_type": "code",
   "execution_count": 54,
   "id": "72e675c4",
   "metadata": {},
   "outputs": [
    {
     "name": "stdout",
     "output_type": "stream",
     "text": [
      "\t\t\u001b[31m**FULL OUTPUT**\u001b[0m\n",
      "\n",
      "Subject: Apology for the Inconvenience\n",
      "\n",
      "Dear Mark,\n",
      "\n",
      "I hope this email finds you well. I am writing to express my sincere apologies for the inconvenience caused to you due to the technical issue with our product. We understand the frustration and disappointment this has caused, and we take your feedback very seriously.\n",
      "\n",
      "I want to assure you that we are committed to resolving the problem as quickly as possible. Our technical team is working tirelessly to identify the root cause and implement a solution. We understand the importance of providing excellent customer support, and we deeply regret falling short of your expectations.\n",
      "\n",
      "In the meantime, we would like to offer you a temporary solution to minimize the impact on your business. We understand that your time is valuable, and we want to ensure that you can continue to operate efficiently. Our team will be available to assist you with any questions or concerns you may have and to work with you to find the best possible solution.\n",
      "\n",
      "Once again, please accept my sincere apologies for the inconvenience caused. We value your business and are committed to making things right. If you have any further questions or concerns, please do not hesitate to contact me directly.\n",
      "\n",
      "Thank you for your understanding and patience.\n",
      "\n",
      "Best regards,\n",
      "Alice.\n"
     ]
    }
   ],
   "source": [
    "print('\\t\\t\\x1b[31m**FULL OUTPUT**\\x1b[0m\\n')\n",
    "full_output_text = ''.join(output_data)\n",
    "print(full_output_text)"
   ]
  },
  {
   "cell_type": "markdown",
   "id": "274d7635",
   "metadata": {},
   "source": [
    "# Summarization of Text"
   ]
  },
  {
   "cell_type": "code",
   "execution_count": 55,
   "id": "d919cf08",
   "metadata": {},
   "outputs": [],
   "source": [
    "scenario_description = \"\"\"\n",
    "Please provide a summary of the following text. Do not add any information that is not mentioned in the text below.\n",
    "\n",
    "<text>\n",
    "Today, the city zoo unveiled its new exhibit, \"Wild Wonders of Africa\", which showcases a variety of African wildlife. The exhibit features animals such as giraffes, elephants, and lions in a naturalistic setting, offering a glimpse into the diverse ecosystems of Africa. The zoo has partnered with local schools to provide educational tours, aiming to foster a love for wildlife and conservation among the younger generation. Additionally, a portion of the proceeds from the exhibit will go towards supporting wildlife conservation efforts in Africa. The exhibit is expected to attract many visitors and raise awareness about the importance of preserving natural habitats.\n",
    "</text>\n",
    "\n",
    "\"\"\""
   ]
  },
  {
   "cell_type": "code",
   "execution_count": 56,
   "id": "e49ccd2a",
   "metadata": {},
   "outputs": [],
   "source": [
    "request_body = json.dumps({\"inputText\": scenario_description, \n",
    "                   \"textGenerationConfig\":{\n",
    "                       \"maxTokenCount\":1000,\n",
    "                       \"stopSequences\":[],\n",
    "                       \"temperature\":0.5,\n",
    "                       \"topP\":0.5\n",
    "                   },\n",
    "                  }) "
   ]
  },
  {
   "cell_type": "code",
   "execution_count": 57,
   "id": "543f195d",
   "metadata": {},
   "outputs": [],
   "source": [
    "modelId = 'amazon.titan-tg1-large'\n",
    "accept = 'application/json'\n",
    "contentType = 'application/json'\n",
    "generatedText = \"\\n\"\n",
    "\n",
    "model_response = bedrock_runtime.invoke_model(body=request_body, modelId=modelId, accept=accept, contentType=contentType)\n",
    "response_contents = json.loads(model_response.get('body').read())\n",
    "\n",
    "generatedText = response_contents.get('results')[0].get('outputText')\n"
   ]
  },
  {
   "cell_type": "code",
   "execution_count": 58,
   "id": "24af291f",
   "metadata": {},
   "outputs": [
    {
     "data": {
      "text/plain": [
       "'The \"Wild Wonders of Africa\" exhibit at the city zoo offers visitors a glimpse into the diverse ecosystems of Africa, featuring animals such as giraffes, elephants, and lions. The zoo has partnered with local schools to provide educational tours and a portion of the proceeds will go towards supporting wildlife conservation efforts in Africa. The exhibit is expected to attract many visitors and raise awareness about the importance of preserving natural habitats.'"
      ]
     },
     "execution_count": 58,
     "metadata": {},
     "output_type": "execute_result"
    }
   ],
   "source": [
    "generatedText"
   ]
  },
  {
   "cell_type": "code",
   "execution_count": null,
   "id": "c9903336",
   "metadata": {},
   "outputs": [],
   "source": []
  }
 ],
 "metadata": {
  "kernelspec": {
   "display_name": "Python 3 (ipykernel)",
   "language": "python",
   "name": "python3"
  },
  "language_info": {
   "codemirror_mode": {
    "name": "ipython",
    "version": 3
   },
   "file_extension": ".py",
   "mimetype": "text/x-python",
   "name": "python",
   "nbconvert_exporter": "python",
   "pygments_lexer": "ipython3",
   "version": "3.9.7"
  }
 },
 "nbformat": 4,
 "nbformat_minor": 5
}
